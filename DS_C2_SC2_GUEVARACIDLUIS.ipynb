{
  "nbformat": 4,
  "nbformat_minor": 0,
  "metadata": {
    "colab": {
      "provenance": [],
      "authorship_tag": "ABX9TyOuVOab7arWWZtMeDas9Mtp",
      "include_colab_link": true
    },
    "kernelspec": {
      "name": "python3",
      "display_name": "Python 3"
    },
    "language_info": {
      "name": "python"
    }
  },
  "cells": [
    {
      "cell_type": "markdown",
      "metadata": {
        "id": "view-in-github",
        "colab_type": "text"
      },
      "source": [
        "<a href=\"https://colab.research.google.com/github/lalo401/practica1_fdp/blob/master/DS_C2_SC2_GUEVARACIDLUIS.ipynb\" target=\"_parent\"><img src=\"https://colab.research.google.com/assets/colab-badge.svg\" alt=\"Open In Colab\"/></a>"
      ]
    },
    {
      "cell_type": "markdown",
      "source": [
        "**RETO: Análisis del progreso mundial de vacunación**"
      ],
      "metadata": {
        "id": "7c0mft7yG4AS"
      }
    },
    {
      "cell_type": "code",
      "execution_count": 3,
      "metadata": {
        "id": "ZRNLifVPCg9Q"
      },
      "outputs": [],
      "source": [
        "import pandas as pd\n"
      ]
    },
    {
      "cell_type": "markdown",
      "source": [
        "a. Extraer la información del archivo."
      ],
      "metadata": {
        "id": "hFSmZPxLGuWk"
      }
    },
    {
      "cell_type": "code",
      "source": [
        "df = pd.read_csv(\"/content/country_vaccinations.csv\")\n",
        "print(df)"
      ],
      "metadata": {
        "id": "oc_VwTqyGycP"
      },
      "execution_count": null,
      "outputs": []
    },
    {
      "cell_type": "markdown",
      "source": [
        "b. Mostrar la estructura y tipos de datos de cada columna para identificar qué operaciones puedes realizar con cada una de ellas, asegurándote que las columnas con fechas sean del tipo datetime64."
      ],
      "metadata": {
        "id": "xr92zvbAIwXR"
      }
    },
    {
      "cell_type": "code",
      "source": [
        "df.info()\n",
        "df['date'] = pd.to_datetime(df['date'])\n",
        "df.dtypes"
      ],
      "metadata": {
        "id": "omcXNgoWI5ws"
      },
      "execution_count": null,
      "outputs": []
    },
    {
      "cell_type": "markdown",
      "source": [
        "c. Determinar la cantidad de vacunas aplicadas de cada compañía (con base en cómo lo reporta cada país en la columna vaccines, en otras palabras, agrupe por vaccines y realice la sumatoria).\n",
        "\n",
        "Respuesta y duda: *hay marcas agrupadas y el problema si intentara dividirlas por strings es que en el dataframe no sabríamos de la cantidad total de vacunas por registro, cuántas son por cada una de las marcas agrupadas.*"
      ],
      "metadata": {
        "id": "8OIdPsOWKib4"
      }
    },
    {
      "cell_type": "code",
      "source": [
        "vacunas_compania = df.groupby('vaccines')['total_vaccinations'].sum().reset_index\n",
        "print(vacunas_compania)"
      ],
      "metadata": {
        "colab": {
          "base_uri": "https://localhost:8080/"
        },
        "id": "wEaCxCHGKy88",
        "outputId": "437735ab-ff28-493a-e992-66f713681cd8"
      },
      "execution_count": 37,
      "outputs": [
        {
          "output_type": "stream",
          "name": "stdout",
          "text": [
            "<bound method Series.reset_index of vaccines\n",
            "Abdala, Johnson&Johnson, Oxford/AstraZeneca, Pfizer/BioNTech, Soberana02, Sputnik Light, Sputnik V                            1.784348e+08\n",
            "Abdala, Moderna, Oxford/AstraZeneca, Pfizer/BioNTech, Sinopharm/Beijing, Sputnik V                                            1.791450e+10\n",
            "Abdala, Sinopharm/Beijing, Sinovac, Soberana02, Sputnik Light, Sputnik V                                                      4.228568e+08\n",
            "Abdala, Soberana Plus, Soberana02                                                                                             6.405166e+09\n",
            "COVIran Barekat, Covaxin, FAKHRAVAC, Oxford/AstraZeneca, Razi Cov Pars, Sinopharm/Beijing, Soberana02, SpikoGen, Sputnik V    1.069480e+10\n",
            "                                                                                                                                  ...     \n",
            "Pfizer/BioNTech, Sinovac, Turkovac                                                                                            3.392310e+10\n",
            "Pfizer/BioNTech, Sputnik V                                                                                                    3.863380e+06\n",
            "QazVac, Sinopharm/Beijing, Sputnik V                                                                                          3.585429e+09\n",
            "Sinopharm/Beijing                                                                                                             3.080671e+07\n",
            "Sinopharm/Beijing, Sputnik V                                                                                                  6.451243e+08\n",
            "Name: total_vaccinations, Length: 84, dtype: float64>\n"
          ]
        }
      ]
    },
    {
      "cell_type": "markdown",
      "source": [
        "d. Obtener la cantidad de vacunas aplicadas en todo el mundo."
      ],
      "metadata": {
        "id": "9p3cf71fSNPQ"
      }
    },
    {
      "cell_type": "code",
      "source": [
        "vacunas_mundo = df[\"total_vaccinations\"].sum()\n",
        "print(vacunas_mundo)"
      ],
      "metadata": {
        "colab": {
          "base_uri": "https://localhost:8080/"
        },
        "id": "pP7joxm0gXKt",
        "outputId": "578fa641-0d28-459a-e633-83a2ac2da300"
      },
      "execution_count": 17,
      "outputs": [
        {
          "output_type": "stream",
          "name": "stdout",
          "text": [
            "2002854013761.0\n"
          ]
        }
      ]
    },
    {
      "cell_type": "markdown",
      "source": [
        "e. Calcular el promedio de vacunas aplicadas por país."
      ],
      "metadata": {
        "id": "BKXBwanqg6wb"
      }
    },
    {
      "cell_type": "code",
      "source": [
        "promedio_pais = df.groupby(\"country\")[\"total_vaccinations\"].mean()\n",
        "print(promedio_pais)"
      ],
      "metadata": {
        "colab": {
          "base_uri": "https://localhost:8080/"
        },
        "id": "LET9PVG9hDYM",
        "outputId": "fd560294-d728-4fd3-ab70-291aa42e5c06"
      },
      "execution_count": 19,
      "outputs": [
        {
          "output_type": "stream",
          "name": "stdout",
          "text": [
            "country\n",
            "Afghanistan          2.566118e+06\n",
            "Albania              1.191695e+06\n",
            "Algeria              9.956086e+06\n",
            "Andorra              5.827721e+04\n",
            "Angola               6.074066e+06\n",
            "                         ...     \n",
            "Wales                4.132861e+06\n",
            "Wallis and Futuna    9.142925e+03\n",
            "Yemen                4.794049e+05\n",
            "Zambia               1.048484e+06\n",
            "Zimbabwe             4.181618e+06\n",
            "Name: total_vaccinations, Length: 223, dtype: float64\n"
          ]
        }
      ]
    },
    {
      "cell_type": "markdown",
      "source": [
        "f. Determinar la cantidad de vacunas aplicadas el día 29/01/21 en todo el mundo."
      ],
      "metadata": {
        "id": "QjIB0e3xhsfq"
      }
    },
    {
      "cell_type": "code",
      "source": [
        "vacunas_290121 = df[df[\"date\"] == \"2021-01-29\"][\"total_vaccinations\"].sum()\n",
        "print(vacunas_290121)"
      ],
      "metadata": {
        "colab": {
          "base_uri": "https://localhost:8080/"
        },
        "id": "VjnEkfCghyC0",
        "outputId": "224fdb8a-fcb0-4ee9-cbeb-429f6a591950"
      },
      "execution_count": 21,
      "outputs": [
        {
          "output_type": "stream",
          "name": "stdout",
          "text": [
            "82952931.0\n"
          ]
        }
      ]
    },
    {
      "cell_type": "markdown",
      "source": [
        "g. Crear un dataframe nuevo denominado conDiferencias que contenga los datos originales y una columna derivada (diferencias) con las diferencias de aplicación entre las columnas daily_vaccionations y daily_vaccionations_raw.  "
      ],
      "metadata": {
        "id": "Z8n2Sq12iDTI"
      }
    },
    {
      "cell_type": "code",
      "source": [
        "conDiferencias = df\n",
        "conDiferencias[\"diferencias\"] = conDiferencias[\"daily_vaccinations\"] - conDiferencias[\"daily_vaccinations_raw\"]\n",
        "print(conDiferencias[\"diferencias\"])"
      ],
      "metadata": {
        "colab": {
          "base_uri": "https://localhost:8080/"
        },
        "id": "cVVTOcWxiGTM",
        "outputId": "f5b626ae-9cf4-4321-da7c-186eba20b222"
      },
      "execution_count": 25,
      "outputs": [
        {
          "output_type": "stream",
          "name": "stdout",
          "text": [
            "0            NaN\n",
            "1            NaN\n",
            "2            NaN\n",
            "3            NaN\n",
            "4            NaN\n",
            "          ...   \n",
            "86507   -69634.0\n",
            "86508   -16657.0\n",
            "86509    37318.0\n",
            "86510    11293.0\n",
            "86511    -1618.0\n",
            "Name: diferencias, Length: 86512, dtype: float64\n"
          ]
        }
      ]
    },
    {
      "cell_type": "markdown",
      "source": [
        "h. Obtener el periodo de tiempo entre el registro con fecha más reciente y el registro con fecha más antigua."
      ],
      "metadata": {
        "id": "nKHkA75hjupu"
      }
    },
    {
      "cell_type": "code",
      "source": [
        "fecha_reciente = pd.to_datetime(df[\"date\"]).max()\n",
        "fecha_antigua = pd.to_datetime(df[\"date\"]).min()\n",
        "periodo_reant = fecha_reciente - fecha_antigua\n",
        "print(periodo_reant)"
      ],
      "metadata": {
        "colab": {
          "base_uri": "https://localhost:8080/"
        },
        "id": "2KZRfkPAjyII",
        "outputId": "ba85daa2-95e0-4a7a-c1f6-f94d768e92d7"
      },
      "execution_count": 26,
      "outputs": [
        {
          "output_type": "stream",
          "name": "stdout",
          "text": [
            "482 days 00:00:00\n"
          ]
        }
      ]
    },
    {
      "cell_type": "markdown",
      "source": [
        "i. Crear un dataframe nuevo denominado conCantidad que contenga los datos originales y una columna derivada (canVac) con la cantidad de vacunas utilizadas cada día (usar la columna vaccines y separar por el carácter , )."
      ],
      "metadata": {
        "id": "AFEx9pi9kJiO"
      }
    },
    {
      "cell_type": "code",
      "source": [
        "conCantidad = df\n",
        "conCantidad[\"canVac\"] = conCantidad[\"vaccines\"].str.split(\",\").apply(len)\n",
        "print(conCantidad[\"canVac\"])\n",
        "#Utilizo aquí un registro de conteo para ver que efectivamente, la columna canVac esté contando la cantidad de vacunas.\n",
        "print(conCantidad.loc[30696])"
      ],
      "metadata": {
        "colab": {
          "base_uri": "https://localhost:8080/"
        },
        "id": "6TPGcsk7kM0L",
        "outputId": "8eeb09a4-9467-47ee-bb17-42566e3165cc"
      },
      "execution_count": 28,
      "outputs": [
        {
          "output_type": "stream",
          "name": "stdout",
          "text": [
            "0        4\n",
            "1        4\n",
            "2        4\n",
            "3        4\n",
            "4        4\n",
            "        ..\n",
            "86507    4\n",
            "86508    4\n",
            "86509    4\n",
            "86510    4\n",
            "86511    4\n",
            "Name: canVac, Length: 86512, dtype: int64\n",
            "country                                              Greenland\n",
            "iso_code                                                   GRL\n",
            "date                                       2021-01-30 00:00:00\n",
            "total_vaccinations                                         NaN\n",
            "people_vaccinated                                          NaN\n",
            "people_fully_vaccinated                                    NaN\n",
            "daily_vaccinations_raw                                     NaN\n",
            "daily_vaccinations                                        77.0\n",
            "total_vaccinations_per_hundred                             NaN\n",
            "people_vaccinated_per_hundred                              NaN\n",
            "people_fully_vaccinated_per_hundred                        NaN\n",
            "daily_vaccinations_per_million                          1354.0\n",
            "vaccines                                               Moderna\n",
            "source_name                            Government of Greenland\n",
            "source_website                           https://corona.nun.gl\n",
            "diferencias                                                NaN\n",
            "canVac                                                       1\n",
            "Name: 30696, dtype: object\n"
          ]
        }
      ]
    },
    {
      "cell_type": "markdown",
      "source": [
        "j. Generar un dataframe denominado antes20 con todos los registros que se hayan realizado antes del 20 de diciembre de 2020."
      ],
      "metadata": {
        "id": "O8mU17BPlY_b"
      }
    },
    {
      "cell_type": "code",
      "source": [
        "antes20 = df[df[\"date\"] < \"2020-12-20\"]\n",
        "print(antes20)"
      ],
      "metadata": {
        "colab": {
          "base_uri": "https://localhost:8080/"
        },
        "id": "-BN-6bcrlb3e",
        "outputId": "c8d8e869-ec78-43d5-8daf-4ae65baff65d"
      },
      "execution_count": 29,
      "outputs": [
        {
          "output_type": "stream",
          "name": "stdout",
          "text": [
            "             country iso_code       date  total_vaccinations  \\\n",
            "13403         Canada      CAN 2020-12-14                 5.0   \n",
            "13404         Canada      CAN 2020-12-15               727.0   \n",
            "13405         Canada      CAN 2020-12-16              3025.0   \n",
            "13406         Canada      CAN 2020-12-17              7279.0   \n",
            "13407         Canada      CAN 2020-12-18             11296.0   \n",
            "...              ...      ...        ...                 ...   \n",
            "82362  United States      USA 2020-12-15             84638.0   \n",
            "82363  United States      USA 2020-12-16            244549.0   \n",
            "82364  United States      USA 2020-12-17            517161.0   \n",
            "82365  United States      USA 2020-12-18            933551.0   \n",
            "82366  United States      USA 2020-12-19           1115437.0   \n",
            "\n",
            "       people_vaccinated  people_fully_vaccinated  daily_vaccinations_raw  \\\n",
            "13403                5.0                      NaN                     NaN   \n",
            "13404              727.0                      NaN                   722.0   \n",
            "13405             3025.0                      NaN                  2298.0   \n",
            "13406             7279.0                      NaN                  4254.0   \n",
            "13407            11296.0                      NaN                  4017.0   \n",
            "...                  ...                      ...                     ...   \n",
            "82362            76984.0                   6281.0                 49771.0   \n",
            "82363           231496.0                   6757.0                159911.0   \n",
            "82364           496980.0                   7507.0                272612.0   \n",
            "82365           904656.0                   8718.0                416390.0   \n",
            "82366          1082608.0                   9778.0                181886.0   \n",
            "\n",
            "       daily_vaccinations  total_vaccinations_per_hundred  \\\n",
            "13403                 NaN                            0.00   \n",
            "13404               722.0                            0.00   \n",
            "13405              1510.0                            0.01   \n",
            "13406              2425.0                            0.02   \n",
            "13407              2823.0                            0.03   \n",
            "...                   ...                             ...   \n",
            "82362             27175.0                            0.03   \n",
            "82363             71420.0                            0.07   \n",
            "82364            121718.0                            0.16   \n",
            "82365            180653.0                            0.28   \n",
            "82366            180858.0                            0.34   \n",
            "\n",
            "       people_vaccinated_per_hundred  people_fully_vaccinated_per_hundred  \\\n",
            "13403                           0.00                                  NaN   \n",
            "13404                           0.00                                  NaN   \n",
            "13405                           0.01                                  NaN   \n",
            "13406                           0.02                                  NaN   \n",
            "13407                           0.03                                  NaN   \n",
            "...                              ...                                  ...   \n",
            "82362                           0.02                                  0.0   \n",
            "82363                           0.07                                  0.0   \n",
            "82364                           0.15                                  0.0   \n",
            "82365                           0.27                                  0.0   \n",
            "82366                           0.33                                  0.0   \n",
            "\n",
            "       daily_vaccinations_per_million  \\\n",
            "13403                             NaN   \n",
            "13404                            19.0   \n",
            "13405                            40.0   \n",
            "13406                            64.0   \n",
            "13407                            74.0   \n",
            "...                               ...   \n",
            "82362                            82.0   \n",
            "82363                           215.0   \n",
            "82364                           367.0   \n",
            "82365                           544.0   \n",
            "82366                           545.0   \n",
            "\n",
            "                                                vaccines  \\\n",
            "13403  Johnson&Johnson, Moderna, Oxford/AstraZeneca, ...   \n",
            "13404  Johnson&Johnson, Moderna, Oxford/AstraZeneca, ...   \n",
            "13405  Johnson&Johnson, Moderna, Oxford/AstraZeneca, ...   \n",
            "13406  Johnson&Johnson, Moderna, Oxford/AstraZeneca, ...   \n",
            "13407  Johnson&Johnson, Moderna, Oxford/AstraZeneca, ...   \n",
            "...                                                  ...   \n",
            "82362          Johnson&Johnson, Moderna, Pfizer/BioNTech   \n",
            "82363          Johnson&Johnson, Moderna, Pfizer/BioNTech   \n",
            "82364          Johnson&Johnson, Moderna, Pfizer/BioNTech   \n",
            "82365          Johnson&Johnson, Moderna, Pfizer/BioNTech   \n",
            "82366          Johnson&Johnson, Moderna, Pfizer/BioNTech   \n",
            "\n",
            "                                             source_name  \\\n",
            "13403  Official data from provinces via covid19tracke...   \n",
            "13404  Official data from provinces via covid19tracke...   \n",
            "13405  Official data from provinces via covid19tracke...   \n",
            "13406  Official data from provinces via covid19tracke...   \n",
            "13407  Official data from provinces via covid19tracke...   \n",
            "...                                                  ...   \n",
            "82362         Centers for Disease Control and Prevention   \n",
            "82363         Centers for Disease Control and Prevention   \n",
            "82364         Centers for Disease Control and Prevention   \n",
            "82365         Centers for Disease Control and Prevention   \n",
            "82366         Centers for Disease Control and Prevention   \n",
            "\n",
            "                                          source_website  diferencias  canVac  \n",
            "13403  https://covid19tracker.ca/vaccinationtracker.html          NaN       4  \n",
            "13404  https://covid19tracker.ca/vaccinationtracker.html          0.0       4  \n",
            "13405  https://covid19tracker.ca/vaccinationtracker.html       -788.0       4  \n",
            "13406  https://covid19tracker.ca/vaccinationtracker.html      -1829.0       4  \n",
            "13407  https://covid19tracker.ca/vaccinationtracker.html      -1194.0       4  \n",
            "...                                                  ...          ...     ...  \n",
            "82362  https://data.cdc.gov/Vaccinations/COVID-19-Vac...     -22596.0       3  \n",
            "82363  https://data.cdc.gov/Vaccinations/COVID-19-Vac...     -88491.0       3  \n",
            "82364  https://data.cdc.gov/Vaccinations/COVID-19-Vac...    -150894.0       3  \n",
            "82365  https://data.cdc.gov/Vaccinations/COVID-19-Vac...    -235737.0       3  \n",
            "82366  https://data.cdc.gov/Vaccinations/COVID-19-Vac...      -1028.0       3  \n",
            "\n",
            "[70 rows x 17 columns]\n"
          ]
        }
      ]
    },
    {
      "cell_type": "markdown",
      "source": [
        "k. Obtener un dataframe denominado pfizer con todos los registros donde se haya utilizado la vacuna Pfizer."
      ],
      "metadata": {
        "id": "pnPrL82PmJgy"
      }
    },
    {
      "cell_type": "code",
      "source": [
        "pfizer = df[df[\"vaccines\"].str.contains(\"Pfizer\")]\n",
        "print(pfizer)"
      ],
      "metadata": {
        "colab": {
          "base_uri": "https://localhost:8080/"
        },
        "id": "d4e3Q2QMmNW6",
        "outputId": "593af78a-87ed-4aed-fc0d-e9d33c148355"
      },
      "execution_count": 34,
      "outputs": [
        {
          "output_type": "stream",
          "name": "stdout",
          "text": [
            "           country  iso_code        date  total_vaccinations  \\\n",
            "0      Afghanistan       AFG  2021-02-22                 0.0   \n",
            "1      Afghanistan       AFG  2021-02-23                 NaN   \n",
            "2      Afghanistan       AFG  2021-02-24                 NaN   \n",
            "3      Afghanistan       AFG  2021-02-25                 NaN   \n",
            "4      Afghanistan       AFG  2021-02-26                 NaN   \n",
            "...            ...       ...         ...                 ...   \n",
            "85069        Wales  OWID_WLS  2022-03-24           6921195.0   \n",
            "85070        Wales  OWID_WLS  2022-03-25           6923298.0   \n",
            "85071        Wales  OWID_WLS  2022-03-26           6923706.0   \n",
            "85072        Wales  OWID_WLS  2022-03-27           6925183.0   \n",
            "85073        Wales  OWID_WLS  2022-03-28           6927437.0   \n",
            "\n",
            "       people_vaccinated  people_fully_vaccinated  daily_vaccinations_raw  \\\n",
            "0                    0.0                      NaN                     NaN   \n",
            "1                    NaN                      NaN                     NaN   \n",
            "2                    NaN                      NaN                     NaN   \n",
            "3                    NaN                      NaN                     NaN   \n",
            "4                    NaN                      NaN                     NaN   \n",
            "...                  ...                      ...                     ...   \n",
            "85069          2526832.0                2397677.0                  1756.0   \n",
            "85070          2527100.0                2398097.0                  2103.0   \n",
            "85071          2527184.0                2398322.0                   408.0   \n",
            "85072          2528051.0                2398676.0                  1477.0   \n",
            "85073          2528664.0                2399341.0                  2254.0   \n",
            "\n",
            "       daily_vaccinations  total_vaccinations_per_hundred  \\\n",
            "0                     NaN                            0.00   \n",
            "1                  1367.0                             NaN   \n",
            "2                  1367.0                             NaN   \n",
            "3                  1367.0                             NaN   \n",
            "4                  1367.0                             NaN   \n",
            "...                   ...                             ...   \n",
            "85069              1705.0                          218.33   \n",
            "85070              1667.0                          218.40   \n",
            "85071              1519.0                          218.41   \n",
            "85072              1505.0                          218.46   \n",
            "85073              1609.0                          218.53   \n",
            "\n",
            "       people_vaccinated_per_hundred  people_fully_vaccinated_per_hundred  \\\n",
            "0                               0.00                                  NaN   \n",
            "1                                NaN                                  NaN   \n",
            "2                                NaN                                  NaN   \n",
            "3                                NaN                                  NaN   \n",
            "4                                NaN                                  NaN   \n",
            "...                              ...                                  ...   \n",
            "85069                          79.71                                75.64   \n",
            "85070                          79.72                                75.65   \n",
            "85071                          79.72                                75.66   \n",
            "85072                          79.75                                75.67   \n",
            "85073                          79.77                                75.69   \n",
            "\n",
            "       daily_vaccinations_per_million  \\\n",
            "0                                 NaN   \n",
            "1                                34.0   \n",
            "2                                34.0   \n",
            "3                                34.0   \n",
            "4                                34.0   \n",
            "...                               ...   \n",
            "85069                           538.0   \n",
            "85070                           526.0   \n",
            "85071                           479.0   \n",
            "85072                           475.0   \n",
            "85073                           508.0   \n",
            "\n",
            "                                                vaccines  \\\n",
            "0      Johnson&Johnson, Oxford/AstraZeneca, Pfizer/Bi...   \n",
            "1      Johnson&Johnson, Oxford/AstraZeneca, Pfizer/Bi...   \n",
            "2      Johnson&Johnson, Oxford/AstraZeneca, Pfizer/Bi...   \n",
            "3      Johnson&Johnson, Oxford/AstraZeneca, Pfizer/Bi...   \n",
            "4      Johnson&Johnson, Oxford/AstraZeneca, Pfizer/Bi...   \n",
            "...                                                  ...   \n",
            "85069       Moderna, Oxford/AstraZeneca, Pfizer/BioNTech   \n",
            "85070       Moderna, Oxford/AstraZeneca, Pfizer/BioNTech   \n",
            "85071       Moderna, Oxford/AstraZeneca, Pfizer/BioNTech   \n",
            "85072       Moderna, Oxford/AstraZeneca, Pfizer/BioNTech   \n",
            "85073       Moderna, Oxford/AstraZeneca, Pfizer/BioNTech   \n",
            "\n",
            "                            source_name  \\\n",
            "0             World Health Organization   \n",
            "1             World Health Organization   \n",
            "2             World Health Organization   \n",
            "3             World Health Organization   \n",
            "4             World Health Organization   \n",
            "...                                 ...   \n",
            "85069  Government of the United Kingdom   \n",
            "85070  Government of the United Kingdom   \n",
            "85071  Government of the United Kingdom   \n",
            "85072  Government of the United Kingdom   \n",
            "85073  Government of the United Kingdom   \n",
            "\n",
            "                                          source_website  \n",
            "0                               https://covid19.who.int/  \n",
            "1                               https://covid19.who.int/  \n",
            "2                               https://covid19.who.int/  \n",
            "3                               https://covid19.who.int/  \n",
            "4                               https://covid19.who.int/  \n",
            "...                                                  ...  \n",
            "85069  https://coronavirus.data.gov.uk/details/vaccin...  \n",
            "85070  https://coronavirus.data.gov.uk/details/vaccin...  \n",
            "85071  https://coronavirus.data.gov.uk/details/vaccin...  \n",
            "85072  https://coronavirus.data.gov.uk/details/vaccin...  \n",
            "85073  https://coronavirus.data.gov.uk/details/vaccin...  \n",
            "\n",
            "[64193 rows x 15 columns]\n"
          ]
        }
      ]
    },
    {
      "cell_type": "markdown",
      "source": [
        "l. Almacenar los dataframes generados (conDiferencias, conCantidad, antes20 y pfizer) en un archivo de Excel denominado resultadosReto.xlsx, donde cada dataframe ocupe una hoja diferente. Se recomienda ver la documentación de pd.ExcelWriter."
      ],
      "metadata": {
        "id": "DDPAlrlWmkeI"
      }
    },
    {
      "cell_type": "code",
      "source": [
        "with pd.ExcelWriter(\"resultadosReto.xlsx\") as writer:\n",
        "    conDiferencias.to_excel(writer, sheet_name=\"conDiferencias\")\n",
        "    conCantidad.to_excel(writer, sheet_name=\"conCantidad\")\n",
        "    antes20.to_excel(writer, sheet_name=\"antes20\")\n",
        "    pfizer.to_excel(writer, sheet_name=\"pfizer\")"
      ],
      "metadata": {
        "id": "mO7l3GOFmrsj"
      },
      "execution_count": 36,
      "outputs": []
    }
  ]
}